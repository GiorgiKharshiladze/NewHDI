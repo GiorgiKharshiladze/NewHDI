{
 "cells": [
  {
   "cell_type": "code",
   "execution_count": 335,
   "metadata": {},
   "outputs": [],
   "source": [
    "import pandas as pd\n",
    "import numpy as np\n",
    "\n",
    "def getUNDP(file_name):\n",
    "    my_df = pd.read_csv(file_name, index_col=\"Country\")\n",
    "    my_df = my_df.fillna(0)\n",
    "    \n",
    "    for column in my_df:\n",
    "        df = pd.DataFrame({'country': my_df[column].index, 'value': my_df[column].values})\n",
    "        df = df.sort_values(by='value', ascending=False).reset_index(drop=True)\n",
    "#         df['rank'] = df.index+1\n",
    "        df['rank'] = np.where(df['value'], df.index+1, None)\n",
    "        df = df.set_index('country')\n",
    "        my_df[column] = df['rank']\n",
    "        \n",
    "    return my_df\n",
    "            \n",
    "formated_df = getUNDP('undp.csv')\n",
    "formated_df.to_csv('undp_formated.csv', encoding='utf-8')\n",
    "    #         my_undp[country][col] = {}\n",
    "    #         my_undp[country][col]['value'] = df[col][country]\n",
    "    #         my_undp[country][col]['rank'] = getRank(df[col], country)"
   ]
  },
  {
   "cell_type": "code",
   "execution_count": null,
   "metadata": {},
   "outputs": [],
   "source": []
  }
 ],
 "metadata": {
  "kernelspec": {
   "display_name": "Python 3",
   "language": "python",
   "name": "python3"
  },
  "language_info": {
   "codemirror_mode": {
    "name": "ipython",
    "version": 3
   },
   "file_extension": ".py",
   "mimetype": "text/x-python",
   "name": "python",
   "nbconvert_exporter": "python",
   "pygments_lexer": "ipython3",
   "version": "3.6.5"
  }
 },
 "nbformat": 4,
 "nbformat_minor": 2
}
